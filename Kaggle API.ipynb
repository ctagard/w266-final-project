{
 "nbformat": 4,
 "nbformat_minor": 0,
 "metadata": {
  "colab": {
   "provenance": []
  },
  "kernelspec": {
   "name": "python3",
   "language": "python",
   "display_name": "Python 3 (ipykernel)"
  },
  "language_info": {
   "name": "python"
  }
 },
 "cells": [
  {
   "cell_type": "code",
   "execution_count": null,
   "metadata": {
    "colab": {
     "base_uri": "https://localhost:8080/"
    },
    "id": "5_3K9XOLyuuv",
    "executionInfo": {
     "status": "ok",
     "timestamp": 1698608568756,
     "user_tz": 360,
     "elapsed": 8958,
     "user": {
      "displayName": "Cole Thomas Agard",
      "userId": "11997230490879652853"
     }
    },
    "outputId": "4de1f2b8-457e-4d18-9a70-ca14733f5065"
   },
   "outputs": [],
   "source": [
    "!pip install kaggle"
   ]
  },
  {
   "cell_type": "code",
   "execution_count": null,
   "outputs": [],
   "source": [
    "from google.colab import files\n",
    "\n",
    "files.upload()"
   ],
   "metadata": {
    "collapsed": false
   }
  },
  {
   "cell_type": "code",
   "source": [
    "! mkdir ~/.kaggle\n",
    "\n",
    "! cp kaggle.json ~/.kaggle/"
   ],
   "metadata": {
    "id": "DffR0JAP1z7-"
   },
   "execution_count": null,
   "outputs": []
  },
  {
   "cell_type": "code",
   "source": [
    "! chmod 600 ~/.kaggle/kaggle.json"
   ],
   "metadata": {
    "id": "k8rboAdG2FAX"
   },
   "execution_count": null,
   "outputs": []
  },
  {
   "cell_type": "code",
   "source": [
    "! kaggle datasets list"
   ],
   "metadata": {
    "colab": {
     "base_uri": "https://localhost:8080/"
    },
    "id": "9UkRoMfR2K2J",
    "executionInfo": {
     "status": "ok",
     "timestamp": 1698371778386,
     "user_tz": 240,
     "elapsed": 1325,
     "user": {
      "displayName": "Paul Cooper",
      "userId": "18153913474632921640"
     }
    },
    "outputId": "20410b87-c74e-4967-aa59-c4f04d282728"
   },
   "execution_count": null,
   "outputs": []
  },
  {
   "cell_type": "code",
   "source": [
    "!kaggle datasets download -d nelgiriyewithana/top-spotify-songs-2023"
   ],
   "metadata": {
    "colab": {
     "base_uri": "https://localhost:8080/"
    },
    "id": "-GIdwZBK4tuP",
    "executionInfo": {
     "status": "ok",
     "timestamp": 1698372458991,
     "user_tz": 240,
     "elapsed": 1093,
     "user": {
      "displayName": "Paul Cooper",
      "userId": "18153913474632921640"
     }
    },
    "outputId": "a094beec-706d-42e7-a3f8-bf52680f66c9"
   },
   "execution_count": null,
   "outputs": []
  },
  {
   "cell_type": "code",
   "source": [
    "import kaggle\n",
    "\n",
    "datasets = kaggle.api.dataset_list(search=\"covid\", max_size=1000000)\n",
    "print(datasets)"
   ],
   "metadata": {
    "colab": {
     "base_uri": "https://localhost:8080/"
    },
    "id": "Vqs8_jiD47FP",
    "executionInfo": {
     "status": "ok",
     "timestamp": 1698373020810,
     "user_tz": 240,
     "elapsed": 237,
     "user": {
      "displayName": "Paul Cooper",
      "userId": "18153913474632921640"
     }
    },
    "outputId": "fabdecac-625b-421f-df20-f089f6beadbd",
    "ExecuteTime": {
     "end_time": "2023-11-02T17:54:22.371444Z",
     "start_time": "2023-11-02T17:54:22.131900Z"
    }
   },
   "execution_count": 1,
   "outputs": [
    {
     "ename": "ModuleNotFoundError",
     "evalue": "No module named 'kaggle'",
     "output_type": "error",
     "traceback": [
      "\u001B[0;31m---------------------------------------------------------------------------\u001B[0m",
      "\u001B[0;31mModuleNotFoundError\u001B[0m                       Traceback (most recent call last)",
      "Cell \u001B[0;32mIn[1], line 1\u001B[0m\n\u001B[0;32m----> 1\u001B[0m \u001B[38;5;28;01mimport\u001B[39;00m \u001B[38;5;21;01mkaggle\u001B[39;00m\n\u001B[1;32m      3\u001B[0m datasets \u001B[38;5;241m=\u001B[39m kaggle\u001B[38;5;241m.\u001B[39mapi\u001B[38;5;241m.\u001B[39mdataset_list(search\u001B[38;5;241m=\u001B[39m\u001B[38;5;124m\"\u001B[39m\u001B[38;5;124mcovid\u001B[39m\u001B[38;5;124m\"\u001B[39m, max_size\u001B[38;5;241m=\u001B[39m\u001B[38;5;241m1000000\u001B[39m)\n\u001B[1;32m      4\u001B[0m \u001B[38;5;28mprint\u001B[39m(datasets)\n",
      "\u001B[0;31mModuleNotFoundError\u001B[0m: No module named 'kaggle'"
     ]
    }
   ]
  },
  {
   "cell_type": "code",
   "source": [
    "ds = datasets[0]\n",
    "ds_vars = vars(ds)\n",
    "for var in ds_vars:\n",
    "    print(f\"{var} = {ds_vars[var]}\")"
   ],
   "metadata": {
    "colab": {
     "base_uri": "https://localhost:8080/"
    },
    "id": "Tk2GLNUA6l5V",
    "executionInfo": {
     "status": "ok",
     "timestamp": 1698373057563,
     "user_tz": 240,
     "elapsed": 97,
     "user": {
      "displayName": "Paul Cooper",
      "userId": "18153913474632921640"
     }
    },
    "outputId": "85538f1a-cbf2-45d5-97dc-bc7f5d3381fe"
   },
   "execution_count": null,
   "outputs": []
  },
  {
   "cell_type": "code",
   "source": [
    "kaggle.api.datasets_download(owner_slug=ds.ownerRef,dataset_slug=ds.ref)"
   ],
   "metadata": {
    "colab": {
     "base_uri": "https://localhost:8080/",
     "height": 477
    },
    "id": "fIK7wPL-7b_3",
    "executionInfo": {
     "status": "error",
     "timestamp": 1698373998395,
     "user_tz": 240,
     "elapsed": 223,
     "user": {
      "displayName": "Paul Cooper",
      "userId": "18153913474632921640"
     }
    },
    "outputId": "269db85f-210a-4587-a7b0-1a3e9b100807"
   },
   "execution_count": null,
   "outputs": []
  }
 ]
}
