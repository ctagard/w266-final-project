{
 "cells": [
  {
   "cell_type": "code",
   "execution_count": 1,
   "id": "b8b19c5d-9f78-42ec-a5d8-c1a64433ce3d",
   "metadata": {},
   "outputs": [],
   "source": [
    "import pandas as pd"
   ]
  },
  {
   "cell_type": "code",
   "execution_count": 2,
   "id": "22cc517c-25e9-4b8a-bfc4-dcfc9cdffa89",
   "metadata": {},
   "outputs": [],
   "source": [
    "test_set = pd.read_csv(\"../experiments/test_formatted.csv\")"
   ]
  },
  {
   "cell_type": "code",
   "execution_count": 3,
   "id": "5c0a8c4d-225c-4c07-b081-34191f209e07",
   "metadata": {},
   "outputs": [
    {
     "data": {
      "text/html": [
       "<div>\n",
       "<style scoped>\n",
       "    .dataframe tbody tr th:only-of-type {\n",
       "        vertical-align: middle;\n",
       "    }\n",
       "\n",
       "    .dataframe tbody tr th {\n",
       "        vertical-align: top;\n",
       "    }\n",
       "\n",
       "    .dataframe thead th {\n",
       "        text-align: right;\n",
       "    }\n",
       "</style>\n",
       "<table border=\"1\" class=\"dataframe\">\n",
       "  <thead>\n",
       "    <tr style=\"text-align: right;\">\n",
       "      <th></th>\n",
       "      <th>Unnamed: 0.1</th>\n",
       "      <th>Unnamed: 0</th>\n",
       "      <th>Notebook</th>\n",
       "      <th>Position</th>\n",
       "      <th>ExtractedPrompt</th>\n",
       "      <th>ImprovedPrompt</th>\n",
       "      <th>Code</th>\n",
       "      <th>text</th>\n",
       "    </tr>\n",
       "  </thead>\n",
       "  <tbody>\n",
       "    <tr>\n",
       "      <th>0</th>\n",
       "      <td>6032</td>\n",
       "      <td>6145</td>\n",
       "      <td>1771</td>\n",
       "      <td>5</td>\n",
       "      <td>## Section 1.3 Resize, Flip and Rotate ### Sub...</td>\n",
       "      <td>Write Python code to read an image file named ...</td>\n",
       "      <td>lena_rgb = cv2.imread(lena, cv2.IMREAD_UNCHANG...</td>\n",
       "      <td>&lt;s&gt;[INST] &lt;&lt;SYS&gt;&gt;\\nYou are an expert in Data S...</td>\n",
       "    </tr>\n",
       "    <tr>\n",
       "      <th>1</th>\n",
       "      <td>1112</td>\n",
       "      <td>1138</td>\n",
       "      <td>2087</td>\n",
       "      <td>5</td>\n",
       "      <td>Since we are all here to learn, let's explore ...</td>\n",
       "      <td>Write Python code to extract the advice from a...</td>\n",
       "      <td>advice = quote[quote.new_question == 562]\\npri...</td>\n",
       "      <td>&lt;s&gt;[INST] &lt;&lt;SYS&gt;&gt;\\nYou are an expert in Data S...</td>\n",
       "    </tr>\n",
       "    <tr>\n",
       "      <th>2</th>\n",
       "      <td>7990</td>\n",
       "      <td>8133</td>\n",
       "      <td>3014</td>\n",
       "      <td>29</td>\n",
       "      <td>- From the above visualization we can see that...</td>\n",
       "      <td>Write Python code to import the Seaborn librar...</td>\n",
       "      <td>ax = sns.countplot(x=df.Alcoholism, hue=df.NoS...</td>\n",
       "      <td>&lt;s&gt;[INST] &lt;&lt;SYS&gt;&gt;\\nYou are an expert in Data S...</td>\n",
       "    </tr>\n",
       "    <tr>\n",
       "      <th>3</th>\n",
       "      <td>8271</td>\n",
       "      <td>8418</td>\n",
       "      <td>3021</td>\n",
       "      <td>5</td>\n",
       "      <td>### Numerical Variables</td>\n",
       "      <td>Write Python code to create a figure with a si...</td>\n",
       "      <td>plt.figure(figsize=(14, len(num_cols) * 3))\\n\\...</td>\n",
       "      <td>&lt;s&gt;[INST] &lt;&lt;SYS&gt;&gt;\\nYou are an expert in Data S...</td>\n",
       "    </tr>\n",
       "    <tr>\n",
       "      <th>4</th>\n",
       "      <td>6352</td>\n",
       "      <td>6469</td>\n",
       "      <td>2548</td>\n",
       "      <td>18</td>\n",
       "      <td># Some Resources:* https://keras.io/\\n* https:...</td>\n",
       "      <td>Write Python code to import the IPython.displa...</td>\n",
       "      <td>from IPython.display import display, HTML\\n\\nc...</td>\n",
       "      <td>&lt;s&gt;[INST] &lt;&lt;SYS&gt;&gt;\\nYou are an expert in Data S...</td>\n",
       "    </tr>\n",
       "  </tbody>\n",
       "</table>\n",
       "</div>"
      ],
      "text/plain": [
       "   Unnamed: 0.1  Unnamed: 0  Notebook  Position  \\\n",
       "0          6032        6145      1771         5   \n",
       "1          1112        1138      2087         5   \n",
       "2          7990        8133      3014        29   \n",
       "3          8271        8418      3021         5   \n",
       "4          6352        6469      2548        18   \n",
       "\n",
       "                                     ExtractedPrompt  \\\n",
       "0  ## Section 1.3 Resize, Flip and Rotate ### Sub...   \n",
       "1  Since we are all here to learn, let's explore ...   \n",
       "2  - From the above visualization we can see that...   \n",
       "3                            ### Numerical Variables   \n",
       "4  # Some Resources:* https://keras.io/\\n* https:...   \n",
       "\n",
       "                                      ImprovedPrompt  \\\n",
       "0  Write Python code to read an image file named ...   \n",
       "1  Write Python code to extract the advice from a...   \n",
       "2  Write Python code to import the Seaborn librar...   \n",
       "3  Write Python code to create a figure with a si...   \n",
       "4  Write Python code to import the IPython.displa...   \n",
       "\n",
       "                                                Code  \\\n",
       "0  lena_rgb = cv2.imread(lena, cv2.IMREAD_UNCHANG...   \n",
       "1  advice = quote[quote.new_question == 562]\\npri...   \n",
       "2  ax = sns.countplot(x=df.Alcoholism, hue=df.NoS...   \n",
       "3  plt.figure(figsize=(14, len(num_cols) * 3))\\n\\...   \n",
       "4  from IPython.display import display, HTML\\n\\nc...   \n",
       "\n",
       "                                                text  \n",
       "0  <s>[INST] <<SYS>>\\nYou are an expert in Data S...  \n",
       "1  <s>[INST] <<SYS>>\\nYou are an expert in Data S...  \n",
       "2  <s>[INST] <<SYS>>\\nYou are an expert in Data S...  \n",
       "3  <s>[INST] <<SYS>>\\nYou are an expert in Data S...  \n",
       "4  <s>[INST] <<SYS>>\\nYou are an expert in Data S...  "
      ]
     },
     "execution_count": 3,
     "metadata": {},
     "output_type": "execute_result"
    }
   ],
   "source": [
    "test_set.head()"
   ]
  },
  {
   "cell_type": "code",
   "execution_count": 10,
   "id": "3ffccc0c-9eac-4c18-9a42-9ac62c6b15e7",
   "metadata": {},
   "outputs": [
    {
     "data": {
      "text/plain": [
       "1861"
      ]
     },
     "execution_count": 10,
     "metadata": {},
     "output_type": "execute_result"
    }
   ],
   "source": [
    "cleaned_inference = []\n",
    "with open('../experiments/fine-tuned-results.txt', 'r') as file:\n",
    "    for line in file: \n",
    "        cleaned_inference.append(eval(line.strip())[0]['generated_text'])\n",
    "    \n",
    "len(cleaned_inference)"
   ]
  },
  {
   "cell_type": "code",
   "execution_count": 11,
   "id": "63cb3d88-b7e6-4314-881f-a8fd2a5c0d8d",
   "metadata": {},
   "outputs": [],
   "source": [
    "test_set[\"predicted_code\"] = cleaned_inference"
   ]
  },
  {
   "cell_type": "code",
   "execution_count": 12,
   "id": "8b8a9450-8d55-4837-b67b-0d6ca6f780ad",
   "metadata": {},
   "outputs": [],
   "source": [
    "comparison_df = test_set[[\"Code\", \"predicted_code\"]]"
   ]
  },
  {
   "cell_type": "code",
   "execution_count": 13,
   "id": "591275bf-a05f-4c9a-ac77-af614b0ae21f",
   "metadata": {},
   "outputs": [
    {
     "data": {
      "text/html": [
       "<div>\n",
       "<style scoped>\n",
       "    .dataframe tbody tr th:only-of-type {\n",
       "        vertical-align: middle;\n",
       "    }\n",
       "\n",
       "    .dataframe tbody tr th {\n",
       "        vertical-align: top;\n",
       "    }\n",
       "\n",
       "    .dataframe thead th {\n",
       "        text-align: right;\n",
       "    }\n",
       "</style>\n",
       "<table border=\"1\" class=\"dataframe\">\n",
       "  <thead>\n",
       "    <tr style=\"text-align: right;\">\n",
       "      <th></th>\n",
       "      <th>Code</th>\n",
       "      <th>predicted_code</th>\n",
       "    </tr>\n",
       "  </thead>\n",
       "  <tbody>\n",
       "    <tr>\n",
       "      <th>0</th>\n",
       "      <td>lena_rgb = cv2.imread(lena, cv2.IMREAD_UNCHANG...</td>\n",
       "      <td>&lt;s&gt;[INST] &lt;&lt;SYS&gt;&gt;\\nYou are an expert in Data S...</td>\n",
       "    </tr>\n",
       "    <tr>\n",
       "      <th>1</th>\n",
       "      <td>advice = quote[quote.new_question == 562]\\npri...</td>\n",
       "      <td>&lt;s&gt;[INST] &lt;&lt;SYS&gt;&gt;\\nYou are an expert in Data S...</td>\n",
       "    </tr>\n",
       "    <tr>\n",
       "      <th>2</th>\n",
       "      <td>ax = sns.countplot(x=df.Alcoholism, hue=df.NoS...</td>\n",
       "      <td>&lt;s&gt;[INST] &lt;&lt;SYS&gt;&gt;\\nYou are an expert in Data S...</td>\n",
       "    </tr>\n",
       "    <tr>\n",
       "      <th>3</th>\n",
       "      <td>plt.figure(figsize=(14, len(num_cols) * 3))\\n\\...</td>\n",
       "      <td>&lt;s&gt;[INST] &lt;&lt;SYS&gt;&gt;\\nYou are an expert in Data S...</td>\n",
       "    </tr>\n",
       "    <tr>\n",
       "      <th>4</th>\n",
       "      <td>from IPython.display import display, HTML\\n\\nc...</td>\n",
       "      <td>&lt;s&gt;[INST] &lt;&lt;SYS&gt;&gt;\\nYou are an expert in Data S...</td>\n",
       "    </tr>\n",
       "  </tbody>\n",
       "</table>\n",
       "</div>"
      ],
      "text/plain": [
       "                                                Code  \\\n",
       "0  lena_rgb = cv2.imread(lena, cv2.IMREAD_UNCHANG...   \n",
       "1  advice = quote[quote.new_question == 562]\\npri...   \n",
       "2  ax = sns.countplot(x=df.Alcoholism, hue=df.NoS...   \n",
       "3  plt.figure(figsize=(14, len(num_cols) * 3))\\n\\...   \n",
       "4  from IPython.display import display, HTML\\n\\nc...   \n",
       "\n",
       "                                      predicted_code  \n",
       "0  <s>[INST] <<SYS>>\\nYou are an expert in Data S...  \n",
       "1  <s>[INST] <<SYS>>\\nYou are an expert in Data S...  \n",
       "2  <s>[INST] <<SYS>>\\nYou are an expert in Data S...  \n",
       "3  <s>[INST] <<SYS>>\\nYou are an expert in Data S...  \n",
       "4  <s>[INST] <<SYS>>\\nYou are an expert in Data S...  "
      ]
     },
     "execution_count": 13,
     "metadata": {},
     "output_type": "execute_result"
    }
   ],
   "source": [
    "comparison_df.head()"
   ]
  },
  {
   "cell_type": "code",
   "execution_count": 14,
   "id": "41dd673a-11d4-4274-84b5-a170989a409a",
   "metadata": {},
   "outputs": [
    {
     "data": {
      "text/plain": [
       "'```\\n# Read image\\nlena = cv2.imread(\"../input/lena.jpg\")\\n\\n# Convert to RGB color space\\nlena = cv2.cvtColor(lena, cv2.COLOR_BGR2RGB)\\n\\n# Print original dimensions\\nprint(\"Original dimensions:\", lena.shape)\\n\\n# Rescale image to 50% of its original size\\nlena = cv2.resize(lena, (0, 0), fx=0.5, fy=0.5)\\n\\n# Print resized dimensions\\nprint(\"Resized dimensions:\", lena.shape)\\n\\n# Display resized image\\nplt.imshow(lena)\\nplt.show()\\n\\n``` \\n\\n### 2.2.2.2.2.2.2.2.2.2.2.2.2.2.2.2.2.2.2.2.2.2.2.2.2.2.2.2.2.2.2.2.2.2.2.2.2.2.2.2.2'"
      ]
     },
     "execution_count": 14,
     "metadata": {},
     "output_type": "execute_result"
    }
   ],
   "source": [
    "comparison_df.iloc[0][\"predicted_code\"].split(\"[/INST]\")[1].strip()"
   ]
  },
  {
   "cell_type": "code",
   "execution_count": 17,
   "id": "1f6bc6c4-dfb6-4e9d-ac10-2f4d85d47b4c",
   "metadata": {},
   "outputs": [],
   "source": [
    "import re\n",
    "def extract_code(df):\n",
    "    # Regex pattern to find text between triple backticks\n",
    "    pattern = r\"```(.*?)```\"\n",
    "\n",
    "    # Function to extract all code segments from a single cell\n",
    "    def extract_code_from_cell(cell):\n",
    "        # Using re.findall to extract all occurrences\n",
    "        return re.findall(pattern, cell, re.DOTALL)\n",
    "\n",
    "    # Apply the function to the 'predicted_code' column\n",
    "    df['extracted_code'] = df['predicted_code'].apply(extract_code_from_cell)\n",
    "    return df"
   ]
  },
  {
   "cell_type": "code",
   "execution_count": 20,
   "id": "14d92c9c-b98b-4799-a5e7-5abc1476c513",
   "metadata": {},
   "outputs": [
    {
     "name": "stderr",
     "output_type": "stream",
     "text": [
      "/tmp/ipykernel_14809/2262649371.py:12: SettingWithCopyWarning: \n",
      "A value is trying to be set on a copy of a slice from a DataFrame.\n",
      "Try using .loc[row_indexer,col_indexer] = value instead\n",
      "\n",
      "See the caveats in the documentation: https://pandas.pydata.org/pandas-docs/stable/user_guide/indexing.html#returning-a-view-versus-a-copy\n",
      "  df['extracted_code'] = df['predicted_code'].apply(extract_code_from_cell)\n"
     ]
    },
    {
     "data": {
      "text/plain": [
       "[\".\\n<</SYS>>\\n\\nWrite Python code to read an image file named 'lena' using the OpenCV library, convert it to RGB color space, print its original dimensions, rescale it to 50% of its original size, print its resized dimensions, and display the resized image using Matplotlib.[/INST] \"]"
      ]
     },
     "execution_count": 20,
     "metadata": {},
     "output_type": "execute_result"
    }
   ],
   "source": [
    "cleaned_preds = extract_code(comparison_df)\n",
    "cleaned_preds['extracted_code'].iloc[0]"
   ]
  },
  {
   "cell_type": "code",
   "execution_count": 23,
   "id": "fd3b48f3-4be8-4e02-9d49-1685ca58abb8",
   "metadata": {},
   "outputs": [
    {
     "name": "stderr",
     "output_type": "stream",
     "text": [
      "/tmp/ipykernel_14809/903220388.py:1: SettingWithCopyWarning: \n",
      "A value is trying to be set on a copy of a slice from a DataFrame.\n",
      "Try using .loc[row_indexer,col_indexer] = value instead\n",
      "\n",
      "See the caveats in the documentation: https://pandas.pydata.org/pandas-docs/stable/user_guide/indexing.html#returning-a-view-versus-a-copy\n",
      "  comparison_df[\"cleaned_pred\"] = comparison_df['predicted_code'].apply(lambda x: x.split(\"[/INST]\")[1].strip().replace(\"```\", \"\"))\n"
     ]
    }
   ],
   "source": [
    "comparison_df[\"cleaned_pred\"] = comparison_df['predicted_code'].apply(lambda x: x.split(\"[/INST]\")[1].strip().replace(\"```\", \"\"))"
   ]
  },
  {
   "cell_type": "code",
   "execution_count": 24,
   "id": "0b7fa842-19a5-4f16-b74e-b44d0957a458",
   "metadata": {},
   "outputs": [
    {
     "data": {
      "text/html": [
       "<div>\n",
       "<style scoped>\n",
       "    .dataframe tbody tr th:only-of-type {\n",
       "        vertical-align: middle;\n",
       "    }\n",
       "\n",
       "    .dataframe tbody tr th {\n",
       "        vertical-align: top;\n",
       "    }\n",
       "\n",
       "    .dataframe thead th {\n",
       "        text-align: right;\n",
       "    }\n",
       "</style>\n",
       "<table border=\"1\" class=\"dataframe\">\n",
       "  <thead>\n",
       "    <tr style=\"text-align: right;\">\n",
       "      <th></th>\n",
       "      <th>Code</th>\n",
       "      <th>predicted_code</th>\n",
       "      <th>extracted_code</th>\n",
       "      <th>cleaned_pred</th>\n",
       "    </tr>\n",
       "  </thead>\n",
       "  <tbody>\n",
       "    <tr>\n",
       "      <th>0</th>\n",
       "      <td>lena_rgb = cv2.imread(lena, cv2.IMREAD_UNCHANG...</td>\n",
       "      <td>&lt;s&gt;[INST] &lt;&lt;SYS&gt;&gt;\\nYou are an expert in Data S...</td>\n",
       "      <td>[.\\n&lt;&lt;/SYS&gt;&gt;\\n\\nWrite Python code to read an i...</td>\n",
       "      <td>\\n# Read image\\nlena = cv2.imread(\"../input/le...</td>\n",
       "    </tr>\n",
       "    <tr>\n",
       "      <th>1</th>\n",
       "      <td>advice = quote[quote.new_question == 562]\\npri...</td>\n",
       "      <td>&lt;s&gt;[INST] &lt;&lt;SYS&gt;&gt;\\nYou are an expert in Data S...</td>\n",
       "      <td>[.\\n&lt;&lt;/SYS&gt;&gt;\\n\\nWrite Python code to extract t...</td>\n",
       "      <td>\\nadvice = quote[quote[\"new_question\"] == 562]...</td>\n",
       "    </tr>\n",
       "    <tr>\n",
       "      <th>2</th>\n",
       "      <td>ax = sns.countplot(x=df.Alcoholism, hue=df.NoS...</td>\n",
       "      <td>&lt;s&gt;[INST] &lt;&lt;SYS&gt;&gt;\\nYou are an expert in Data S...</td>\n",
       "      <td>[.\\n&lt;&lt;/SYS&gt;&gt;\\n\\nWrite Python code to import th...</td>\n",
       "      <td>\\nsns.countplot(x=df[\"Alcoholism\"], hue=df[\"No...</td>\n",
       "    </tr>\n",
       "    <tr>\n",
       "      <th>3</th>\n",
       "      <td>plt.figure(figsize=(14, len(num_cols) * 3))\\n\\...</td>\n",
       "      <td>&lt;s&gt;[INST] &lt;&lt;SYS&gt;&gt;\\nYou are an expert in Data S...</td>\n",
       "      <td>[.\\n&lt;&lt;/SYS&gt;&gt;\\n\\nWrite Python code to create a ...</td>\n",
       "      <td>\\nplt.figure(figsize=(14, len(df.columns) * 3)...</td>\n",
       "    </tr>\n",
       "    <tr>\n",
       "      <th>4</th>\n",
       "      <td>from IPython.display import display, HTML\\n\\nc...</td>\n",
       "      <td>&lt;s&gt;[INST] &lt;&lt;SYS&gt;&gt;\\nYou are an expert in Data S...</td>\n",
       "      <td>[.\\n&lt;&lt;/SYS&gt;&gt;\\n\\nWrite Python code to import th...</td>\n",
       "      <td>\\nfrom IPython.display import HTML\\n\\n\\ndef dh...</td>\n",
       "    </tr>\n",
       "  </tbody>\n",
       "</table>\n",
       "</div>"
      ],
      "text/plain": [
       "                                                Code  \\\n",
       "0  lena_rgb = cv2.imread(lena, cv2.IMREAD_UNCHANG...   \n",
       "1  advice = quote[quote.new_question == 562]\\npri...   \n",
       "2  ax = sns.countplot(x=df.Alcoholism, hue=df.NoS...   \n",
       "3  plt.figure(figsize=(14, len(num_cols) * 3))\\n\\...   \n",
       "4  from IPython.display import display, HTML\\n\\nc...   \n",
       "\n",
       "                                      predicted_code  \\\n",
       "0  <s>[INST] <<SYS>>\\nYou are an expert in Data S...   \n",
       "1  <s>[INST] <<SYS>>\\nYou are an expert in Data S...   \n",
       "2  <s>[INST] <<SYS>>\\nYou are an expert in Data S...   \n",
       "3  <s>[INST] <<SYS>>\\nYou are an expert in Data S...   \n",
       "4  <s>[INST] <<SYS>>\\nYou are an expert in Data S...   \n",
       "\n",
       "                                      extracted_code  \\\n",
       "0  [.\\n<</SYS>>\\n\\nWrite Python code to read an i...   \n",
       "1  [.\\n<</SYS>>\\n\\nWrite Python code to extract t...   \n",
       "2  [.\\n<</SYS>>\\n\\nWrite Python code to import th...   \n",
       "3  [.\\n<</SYS>>\\n\\nWrite Python code to create a ...   \n",
       "4  [.\\n<</SYS>>\\n\\nWrite Python code to import th...   \n",
       "\n",
       "                                        cleaned_pred  \n",
       "0  \\n# Read image\\nlena = cv2.imread(\"../input/le...  \n",
       "1  \\nadvice = quote[quote[\"new_question\"] == 562]...  \n",
       "2  \\nsns.countplot(x=df[\"Alcoholism\"], hue=df[\"No...  \n",
       "3  \\nplt.figure(figsize=(14, len(df.columns) * 3)...  \n",
       "4  \\nfrom IPython.display import HTML\\n\\n\\ndef dh...  "
      ]
     },
     "execution_count": 24,
     "metadata": {},
     "output_type": "execute_result"
    }
   ],
   "source": [
    "comparison_df.head()"
   ]
  },
  {
   "cell_type": "code",
   "execution_count": 25,
   "id": "1f4638aa-25ef-46c2-ac99-4cba6fd2e1bd",
   "metadata": {},
   "outputs": [],
   "source": [
    "from codebleu import calc_codebleu"
   ]
  },
  {
   "cell_type": "code",
   "execution_count": 26,
   "id": "edfdb9a4-734f-4d2d-aeeb-d336799c1e4e",
   "metadata": {},
   "outputs": [
    {
     "data": {
      "text/plain": [
       "1861"
      ]
     },
     "execution_count": 26,
     "metadata": {},
     "output_type": "execute_result"
    }
   ],
   "source": [
    "references=comparison_df[\"Code\"].to_list()\n",
    "predictions=comparison_df[\"cleaned_pred\"].to_list()\n",
    "len(references)"
   ]
  },
  {
   "cell_type": "code",
   "execution_count": 27,
   "id": "bc7af2f7-687d-4ed2-b207-11ee497910f6",
   "metadata": {},
   "outputs": [
    {
     "name": "stdout",
     "output_type": "stream",
     "text": [
      "{'codebleu': 0.2458193832854013, 'ngram_match_score': 0.10876252170826595, 'weighted_ngram_match_score': 0.15189678227049677, 'syntax_match_score': 0.4333359181141439, 'dataflow_match_score': 0.2892823110486985}\n"
     ]
    }
   ],
   "source": [
    "result = calc_codebleu(references=references, predictions=predictions, lang=\"python\", weights=(0.25, 0.25, 0.25, 0.25), tokenizer=None)\n",
    "print(result)"
   ]
  },
  {
   "cell_type": "markdown",
   "id": "a7d50f3f-6c87-4071-9f92-717f89fd6def",
   "metadata": {},
   "source": [
    "# Baseline on self instruct"
   ]
  },
  {
   "cell_type": "code",
   "execution_count": 28,
   "id": "b6ce21bc-4a92-478e-bbb5-80705c4a2f01",
   "metadata": {},
   "outputs": [
    {
     "data": {
      "text/plain": [
       "1861"
      ]
     },
     "execution_count": 28,
     "metadata": {},
     "output_type": "execute_result"
    }
   ],
   "source": [
    "baseline_inference = []\n",
    "with open('../experiments/self-instruct-non-finetuned-baseline-results.txt', 'r') as file:\n",
    "    for line in file: \n",
    "        baseline_inference.append(eval(line.strip())[0]['generated_text'])\n",
    "    \n",
    "len(baseline_inference)"
   ]
  },
  {
   "cell_type": "code",
   "execution_count": 29,
   "id": "159f4387-03fb-4951-83e0-1efc9a703682",
   "metadata": {},
   "outputs": [],
   "source": [
    "test_set['BaselineCode'] = baseline_inference"
   ]
  },
  {
   "cell_type": "code",
   "execution_count": 30,
   "id": "3c29deec-7f33-468d-8cb4-dc796112ffce",
   "metadata": {},
   "outputs": [],
   "source": [
    "baseline= test_set[[\"Code\", \"BaselineCode\"]]"
   ]
  },
  {
   "cell_type": "code",
   "execution_count": 31,
   "id": "42b8198f-c1c5-487b-95d3-d36a4b0bdd76",
   "metadata": {},
   "outputs": [
    {
     "data": {
      "text/html": [
       "<div>\n",
       "<style scoped>\n",
       "    .dataframe tbody tr th:only-of-type {\n",
       "        vertical-align: middle;\n",
       "    }\n",
       "\n",
       "    .dataframe tbody tr th {\n",
       "        vertical-align: top;\n",
       "    }\n",
       "\n",
       "    .dataframe thead th {\n",
       "        text-align: right;\n",
       "    }\n",
       "</style>\n",
       "<table border=\"1\" class=\"dataframe\">\n",
       "  <thead>\n",
       "    <tr style=\"text-align: right;\">\n",
       "      <th></th>\n",
       "      <th>Code</th>\n",
       "      <th>BaselineCode</th>\n",
       "    </tr>\n",
       "  </thead>\n",
       "  <tbody>\n",
       "    <tr>\n",
       "      <th>0</th>\n",
       "      <td>lena_rgb = cv2.imread(lena, cv2.IMREAD_UNCHANG...</td>\n",
       "      <td>&lt;s&gt;[INST] &lt;&lt;SYS&gt;&gt;\\nYou are an expert in Data S...</td>\n",
       "    </tr>\n",
       "    <tr>\n",
       "      <th>1</th>\n",
       "      <td>advice = quote[quote.new_question == 562]\\npri...</td>\n",
       "      <td>&lt;s&gt;[INST] &lt;&lt;SYS&gt;&gt;\\nYou are an expert in Data S...</td>\n",
       "    </tr>\n",
       "    <tr>\n",
       "      <th>2</th>\n",
       "      <td>ax = sns.countplot(x=df.Alcoholism, hue=df.NoS...</td>\n",
       "      <td>&lt;s&gt;[INST] &lt;&lt;SYS&gt;&gt;\\nYou are an expert in Data S...</td>\n",
       "    </tr>\n",
       "    <tr>\n",
       "      <th>3</th>\n",
       "      <td>plt.figure(figsize=(14, len(num_cols) * 3))\\n\\...</td>\n",
       "      <td>&lt;s&gt;[INST] &lt;&lt;SYS&gt;&gt;\\nYou are an expert in Data S...</td>\n",
       "    </tr>\n",
       "    <tr>\n",
       "      <th>4</th>\n",
       "      <td>from IPython.display import display, HTML\\n\\nc...</td>\n",
       "      <td>&lt;s&gt;[INST] &lt;&lt;SYS&gt;&gt;\\nYou are an expert in Data S...</td>\n",
       "    </tr>\n",
       "  </tbody>\n",
       "</table>\n",
       "</div>"
      ],
      "text/plain": [
       "                                                Code  \\\n",
       "0  lena_rgb = cv2.imread(lena, cv2.IMREAD_UNCHANG...   \n",
       "1  advice = quote[quote.new_question == 562]\\npri...   \n",
       "2  ax = sns.countplot(x=df.Alcoholism, hue=df.NoS...   \n",
       "3  plt.figure(figsize=(14, len(num_cols) * 3))\\n\\...   \n",
       "4  from IPython.display import display, HTML\\n\\nc...   \n",
       "\n",
       "                                        BaselineCode  \n",
       "0  <s>[INST] <<SYS>>\\nYou are an expert in Data S...  \n",
       "1  <s>[INST] <<SYS>>\\nYou are an expert in Data S...  \n",
       "2  <s>[INST] <<SYS>>\\nYou are an expert in Data S...  \n",
       "3  <s>[INST] <<SYS>>\\nYou are an expert in Data S...  \n",
       "4  <s>[INST] <<SYS>>\\nYou are an expert in Data S...  "
      ]
     },
     "execution_count": 31,
     "metadata": {},
     "output_type": "execute_result"
    }
   ],
   "source": [
    "baseline.head()"
   ]
  },
  {
   "cell_type": "code",
   "execution_count": 32,
   "id": "10c07009-6a61-4cc1-b871-ab8617d84c44",
   "metadata": {},
   "outputs": [
    {
     "name": "stderr",
     "output_type": "stream",
     "text": [
      "/tmp/ipykernel_14809/2031980015.py:1: SettingWithCopyWarning: \n",
      "A value is trying to be set on a copy of a slice from a DataFrame.\n",
      "Try using .loc[row_indexer,col_indexer] = value instead\n",
      "\n",
      "See the caveats in the documentation: https://pandas.pydata.org/pandas-docs/stable/user_guide/indexing.html#returning-a-view-versus-a-copy\n",
      "  baseline[\"cleaned\"] = baseline[\"BaselineCode\"].apply(lambda x: x.split(\"[/INST]\")[1].strip().replace(\"```\", \"\"))\n"
     ]
    }
   ],
   "source": [
    "baseline[\"cleaned\"] = baseline[\"BaselineCode\"].apply(lambda x: x.split(\"[/INST]\")[1].strip().replace(\"```\", \"\"))"
   ]
  },
  {
   "cell_type": "code",
   "execution_count": 33,
   "id": "8366c68a-0aa9-4e1d-92eb-7856a4904be7",
   "metadata": {},
   "outputs": [],
   "source": [
    "references = baseline[\"Code\"].to_list()\n",
    "predictions = baseline[\"cleaned\"].to_list()"
   ]
  },
  {
   "cell_type": "code",
   "execution_count": 34,
   "id": "c39d2d81-32f9-4bb4-8131-83d0f8d53e76",
   "metadata": {},
   "outputs": [],
   "source": [
    "baseline = calc_codebleu(references=references, predictions=predictions, lang=\"python\", weights=(0.25, 0.25, 0.25, 0.25), tokenizer=None)"
   ]
  },
  {
   "cell_type": "code",
   "execution_count": 35,
   "id": "209bb1d2-eff8-4100-8789-7503b2555b42",
   "metadata": {},
   "outputs": [
    {
     "data": {
      "text/plain": [
       "{'codebleu': 0.22436968150638698,\n",
       " 'ngram_match_score': 0.07958609006828499,\n",
       " 'weighted_ngram_match_score': 0.11862337217786387,\n",
       " 'syntax_match_score': 0.43209187273671884,\n",
       " 'dataflow_match_score': 0.2671773910426802}"
      ]
     },
     "execution_count": 35,
     "metadata": {},
     "output_type": "execute_result"
    }
   ],
   "source": [
    "baseline"
   ]
  },
  {
   "cell_type": "code",
   "execution_count": 39,
   "id": "a6ac7624-418d-4468-8b71-5e0c24a40a59",
   "metadata": {},
   "outputs": [
    {
     "name": "stdout",
     "output_type": "stream",
     "text": [
      "Collecting matplotlib\n",
      "  Downloading matplotlib-3.8.2-cp310-cp310-manylinux_2_17_x86_64.manylinux2014_x86_64.whl (11.6 MB)\n",
      "\u001b[2K     \u001b[90m━━━━━━━━━━━━━━━━━━━━━━━━━━━━━━━━━━━━━━━━\u001b[0m \u001b[32m11.6/11.6 MB\u001b[0m \u001b[31m53.0 MB/s\u001b[0m eta \u001b[36m0:00:00\u001b[0m00:01\u001b[0m0:01\u001b[0m\n",
      "\u001b[?25hRequirement already satisfied: numpy<2,>=1.21 in ./turingenv/lib/python3.10/site-packages (from matplotlib) (1.26.2)\n",
      "Collecting kiwisolver>=1.3.1\n",
      "  Downloading kiwisolver-1.4.5-cp310-cp310-manylinux_2_12_x86_64.manylinux2010_x86_64.whl (1.6 MB)\n",
      "\u001b[2K     \u001b[90m━━━━━━━━━━━━━━━━━━━━━━━━━━━━━━━━━━━━━━━━\u001b[0m \u001b[32m1.6/1.6 MB\u001b[0m \u001b[31m60.8 MB/s\u001b[0m eta \u001b[36m0:00:00\u001b[0m\n",
      "\u001b[?25hCollecting cycler>=0.10\n",
      "  Downloading cycler-0.12.1-py3-none-any.whl (8.3 kB)\n",
      "Collecting fonttools>=4.22.0\n",
      "  Downloading fonttools-4.46.0-cp310-cp310-manylinux_2_17_x86_64.manylinux2014_x86_64.whl (4.6 MB)\n",
      "\u001b[2K     \u001b[90m━━━━━━━━━━━━━━━━━━━━━━━━━━━━━━━━━━━━━━━━\u001b[0m \u001b[32m4.6/4.6 MB\u001b[0m \u001b[31m57.9 MB/s\u001b[0m eta \u001b[36m0:00:00\u001b[0m00:01\u001b[0m00:01\u001b[0m\n",
      "\u001b[?25hCollecting contourpy>=1.0.1\n",
      "  Downloading contourpy-1.2.0-cp310-cp310-manylinux_2_17_x86_64.manylinux2014_x86_64.whl (310 kB)\n",
      "\u001b[2K     \u001b[90m━━━━━━━━━━━━━━━━━━━━━━━━━━━━━━━━━━━━━━\u001b[0m \u001b[32m310.7/310.7 KB\u001b[0m \u001b[31m73.9 MB/s\u001b[0m eta \u001b[36m0:00:00\u001b[0m\n",
      "\u001b[?25hRequirement already satisfied: python-dateutil>=2.7 in ./turingenv/lib/python3.10/site-packages (from matplotlib) (2.8.2)\n",
      "Collecting pillow>=8\n",
      "  Downloading Pillow-10.1.0-cp310-cp310-manylinux_2_28_x86_64.whl (3.6 MB)\n",
      "\u001b[2K     \u001b[90m━━━━━━━━━━━━━━━━━━━━━━━━━━━━━━━━━━━━━━━━\u001b[0m \u001b[32m3.6/3.6 MB\u001b[0m \u001b[31m44.8 MB/s\u001b[0m eta \u001b[36m0:00:00\u001b[0ma \u001b[36m0:00:01\u001b[0m\n",
      "\u001b[?25hCollecting pyparsing>=2.3.1\n",
      "  Downloading pyparsing-3.1.1-py3-none-any.whl (103 kB)\n",
      "\u001b[2K     \u001b[90m━━━━━━━━━━━━━━━━━━━━━━━━━━━━━━━━━━━━━━\u001b[0m \u001b[32m103.1/103.1 KB\u001b[0m \u001b[31m62.2 MB/s\u001b[0m eta \u001b[36m0:00:00\u001b[0m\n",
      "\u001b[?25hRequirement already satisfied: packaging>=20.0 in ./turingenv/lib/python3.10/site-packages (from matplotlib) (23.2)\n",
      "Requirement already satisfied: six>=1.5 in ./turingenv/lib/python3.10/site-packages (from python-dateutil>=2.7->matplotlib) (1.16.0)\n",
      "Installing collected packages: pyparsing, pillow, kiwisolver, fonttools, cycler, contourpy, matplotlib\n",
      "Successfully installed contourpy-1.2.0 cycler-0.12.1 fonttools-4.46.0 kiwisolver-1.4.5 matplotlib-3.8.2 pillow-10.1.0 pyparsing-3.1.1\n"
     ]
    }
   ],
   "source": [
    "!pip install matplotlib"
   ]
  },
  {
   "cell_type": "code",
   "execution_count": 42,
   "id": "db5bb655-b8a9-4528-8b54-bb01e1a85b7e",
   "metadata": {},
   "outputs": [
    {
     "data": {
      "image/png": "[encoded data removed]",
      "text/plain": [
       "<Figure size 640x480 with 1 Axes>"
      ]
     },
     "metadata": {},
     "output_type": "display_data"
    }
   ],
   "source": [
    "import matplotlib.pyplot as plt\n",
    "labels = result.keys()\n",
    "results_values = result.values()\n",
    "baseline_values = baseline.values()\n",
    "\n",
    "x = range(len(result))  # the label locations\n",
    "\n",
    "fig, ax = plt.subplots()\n",
    "ax.bar(x, results_values, width=0.2, label='Turing7b-instruct', align='center')\n",
    "ax.bar(x, baseline_values, width=0.2, label='Codellama7b-instruct', align='edge')\n",
    "\n",
    "# Adding labels and title\n",
    "ax.set_xlabel('Metrics')\n",
    "ax.set_ylabel('Scores')\n",
    "ax.set_title('Results on the self-instruct dataset')\n",
    "ax.set_xticks(x)\n",
    "ax.set_xticklabels(labels)\n",
    "ax.legend()\n",
    "\n",
    "# Show the plot\n",
    "plt.xticks(rotation=45)\n",
    "plt.show()"
   ]
  },
  {
   "cell_type": "code",
   "execution_count": null,
   "id": "70469347-509c-4b6e-ada0-3d188990c080",
   "metadata": {},
   "outputs": [],
   "source": []
  }
 ],
 "metadata": {
  "kernelspec": {
   "display_name": "Python 3 (ipykernel)",
   "language": "python",
   "name": "python3"
  },
  "language_info": {
   "codemirror_mode": {
    "name": "ipython",
    "version": 3
   },
   "file_extension": ".py",
   "mimetype": "text/x-python",
   "name": "python",
   "nbconvert_exporter": "python",
   "pygments_lexer": "ipython3",
   "version": "3.10.12"
  }
 },
 "nbformat": 4,
 "nbformat_minor": 5
}
